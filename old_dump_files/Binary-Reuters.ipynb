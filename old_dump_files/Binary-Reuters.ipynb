{
 "cells": [
  {
   "cell_type": "code",
   "execution_count": 1,
   "metadata": {},
   "outputs": [],
   "source": [
    "# Ignore warning messages\n",
    "def warn(*args, **kwargs):\n",
    "    pass\n",
    "import warnings\n",
    "warnings.warn = warn\n",
    "\n",
    "# Handle table-like data and matrices\n",
    "import numpy as np\n",
    "import pandas as pd\n",
    "\n",
    "# Computations\n",
    "import itertools\n",
    "\n",
    "# Modelling Algorithms\n",
    "from sklearn.naive_bayes import MultinomialNB\n",
    "from sklearn.linear_model import LogisticRegression\n",
    "from sklearn.linear_model import PassiveAggressiveClassifier\n",
    "\n",
    "from sklearn.tree import DecisionTreeClassifier\n",
    "from sklearn.ensemble import RandomForestClassifier\n",
    "from sklearn.svm import SVC\n",
    "from sklearn.neighbors import KNeighborsClassifier\n",
    "\n",
    "# Modelling Helpers\n",
    "from sklearn.model_selection import train_test_split\n",
    "from sklearn.feature_extraction.text import TfidfVectorizer\n",
    "from sklearn.feature_extraction.text import CountVectorizer\n",
    "from sklearn import metrics\n",
    "from sklearn.metrics import precision_score\n",
    "from sklearn.metrics import recall_score\n",
    "\n",
    "from sklearn.model_selection import KFold, cross_val_score\n",
    "\n",
    "from tensorflow.keras.preprocessing.text import Tokenizer\n",
    "from tensorflow.keras.preprocessing.sequence import pad_sequences\n",
    "from tensorflow.keras.models import Sequential\n",
    "from tensorflow.keras.layers import Dense, Embedding, LSTM, Conv1D, MaxPool1D\n",
    "from sklearn.model_selection import train_test_split\n",
    "from sklearn.metrics import classification_report, accuracy_score\n",
    "\n",
    "\n",
    "import seaborn as sns\n",
    "import nltk\n",
    "import re\n",
    "from wordcloud import WordCloud\n",
    "\n",
    "# Visualization\n",
    "import matplotlib.pyplot as plt\n",
    "\n",
    "pd.set_option('display.max_columns', None)"
   ]
  },
  {
   "cell_type": "code",
   "execution_count": 2,
   "metadata": {},
   "outputs": [],
   "source": [
    "fake = pd.read_csv('./bin_dataset/Fake.csv', delimiter = ',')\n",
    "true = pd.read_csv('./bin_dataset/True.csv', delimiter = ',')"
   ]
  },
  {
   "cell_type": "code",
   "execution_count": 3,
   "metadata": {},
   "outputs": [],
   "source": [
    "def drop_prefix(text,prefix='(Reuters)',n=5):\n",
    "    ts = str.split(text,' ')\n",
    "    if prefix in ts[:n]:\n",
    "        return str.split(text,prefix)[-1]\n",
    "    else:\n",
    "        return text"
   ]
  },
  {
   "cell_type": "code",
   "execution_count": 4,
   "metadata": {},
   "outputs": [],
   "source": [
    "fake['label']= 0\n",
    "true['label']= 1\n",
    "\n",
    "dataset = pd.DataFrame()\n",
    "dataset = true.append(fake).sample(frac = 1, random_state = 1)\n",
    "dataset.index = range(len(true) + len(fake))"
   ]
  },
  {
   "cell_type": "code",
   "execution_count": 9,
   "metadata": {},
   "outputs": [
    {
     "ename": "KeyError",
     "evalue": "0",
     "output_type": "error",
     "traceback": [
      "\u001b[1;31m---------------------------------------------------------------------------\u001b[0m",
      "\u001b[1;31mKeyError\u001b[0m                                  Traceback (most recent call last)",
      "\u001b[1;32m~\\anaconda3\\lib\\site-packages\\pandas\\core\\indexes\\base.py\u001b[0m in \u001b[0;36mget_loc\u001b[1;34m(self, key, method, tolerance)\u001b[0m\n\u001b[0;32m   2894\u001b[0m             \u001b[1;32mtry\u001b[0m\u001b[1;33m:\u001b[0m\u001b[1;33m\u001b[0m\u001b[1;33m\u001b[0m\u001b[0m\n\u001b[1;32m-> 2895\u001b[1;33m                 \u001b[1;32mreturn\u001b[0m \u001b[0mself\u001b[0m\u001b[1;33m.\u001b[0m\u001b[0m_engine\u001b[0m\u001b[1;33m.\u001b[0m\u001b[0mget_loc\u001b[0m\u001b[1;33m(\u001b[0m\u001b[0mcasted_key\u001b[0m\u001b[1;33m)\u001b[0m\u001b[1;33m\u001b[0m\u001b[1;33m\u001b[0m\u001b[0m\n\u001b[0m\u001b[0;32m   2896\u001b[0m             \u001b[1;32mexcept\u001b[0m \u001b[0mKeyError\u001b[0m \u001b[1;32mas\u001b[0m \u001b[0merr\u001b[0m\u001b[1;33m:\u001b[0m\u001b[1;33m\u001b[0m\u001b[1;33m\u001b[0m\u001b[0m\n",
      "\u001b[1;32mpandas\\_libs\\index.pyx\u001b[0m in \u001b[0;36mpandas._libs.index.IndexEngine.get_loc\u001b[1;34m()\u001b[0m\n",
      "\u001b[1;32mpandas\\_libs\\index.pyx\u001b[0m in \u001b[0;36mpandas._libs.index.IndexEngine.get_loc\u001b[1;34m()\u001b[0m\n",
      "\u001b[1;32mpandas\\_libs\\hashtable_class_helper.pxi\u001b[0m in \u001b[0;36mpandas._libs.hashtable.PyObjectHashTable.get_item\u001b[1;34m()\u001b[0m\n",
      "\u001b[1;32mpandas\\_libs\\hashtable_class_helper.pxi\u001b[0m in \u001b[0;36mpandas._libs.hashtable.PyObjectHashTable.get_item\u001b[1;34m()\u001b[0m\n",
      "\u001b[1;31mKeyError\u001b[0m: 0",
      "\nThe above exception was the direct cause of the following exception:\n",
      "\u001b[1;31mKeyError\u001b[0m                                  Traceback (most recent call last)",
      "\u001b[1;32m<ipython-input-9-55a9d71005c6>\u001b[0m in \u001b[0;36m<module>\u001b[1;34m\u001b[0m\n\u001b[1;32m----> 1\u001b[1;33m \u001b[0mdataset\u001b[0m\u001b[1;33m[\u001b[0m\u001b[1;36m0\u001b[0m\u001b[1;33m]\u001b[0m\u001b[1;33m\u001b[0m\u001b[1;33m\u001b[0m\u001b[0m\n\u001b[0m",
      "\u001b[1;32m~\\anaconda3\\lib\\site-packages\\pandas\\core\\frame.py\u001b[0m in \u001b[0;36m__getitem__\u001b[1;34m(self, key)\u001b[0m\n\u001b[0;32m   2900\u001b[0m             \u001b[1;32mif\u001b[0m \u001b[0mself\u001b[0m\u001b[1;33m.\u001b[0m\u001b[0mcolumns\u001b[0m\u001b[1;33m.\u001b[0m\u001b[0mnlevels\u001b[0m \u001b[1;33m>\u001b[0m \u001b[1;36m1\u001b[0m\u001b[1;33m:\u001b[0m\u001b[1;33m\u001b[0m\u001b[1;33m\u001b[0m\u001b[0m\n\u001b[0;32m   2901\u001b[0m                 \u001b[1;32mreturn\u001b[0m \u001b[0mself\u001b[0m\u001b[1;33m.\u001b[0m\u001b[0m_getitem_multilevel\u001b[0m\u001b[1;33m(\u001b[0m\u001b[0mkey\u001b[0m\u001b[1;33m)\u001b[0m\u001b[1;33m\u001b[0m\u001b[1;33m\u001b[0m\u001b[0m\n\u001b[1;32m-> 2902\u001b[1;33m             \u001b[0mindexer\u001b[0m \u001b[1;33m=\u001b[0m \u001b[0mself\u001b[0m\u001b[1;33m.\u001b[0m\u001b[0mcolumns\u001b[0m\u001b[1;33m.\u001b[0m\u001b[0mget_loc\u001b[0m\u001b[1;33m(\u001b[0m\u001b[0mkey\u001b[0m\u001b[1;33m)\u001b[0m\u001b[1;33m\u001b[0m\u001b[1;33m\u001b[0m\u001b[0m\n\u001b[0m\u001b[0;32m   2903\u001b[0m             \u001b[1;32mif\u001b[0m \u001b[0mis_integer\u001b[0m\u001b[1;33m(\u001b[0m\u001b[0mindexer\u001b[0m\u001b[1;33m)\u001b[0m\u001b[1;33m:\u001b[0m\u001b[1;33m\u001b[0m\u001b[1;33m\u001b[0m\u001b[0m\n\u001b[0;32m   2904\u001b[0m                 \u001b[0mindexer\u001b[0m \u001b[1;33m=\u001b[0m \u001b[1;33m[\u001b[0m\u001b[0mindexer\u001b[0m\u001b[1;33m]\u001b[0m\u001b[1;33m\u001b[0m\u001b[1;33m\u001b[0m\u001b[0m\n",
      "\u001b[1;32m~\\anaconda3\\lib\\site-packages\\pandas\\core\\indexes\\base.py\u001b[0m in \u001b[0;36mget_loc\u001b[1;34m(self, key, method, tolerance)\u001b[0m\n\u001b[0;32m   2895\u001b[0m                 \u001b[1;32mreturn\u001b[0m \u001b[0mself\u001b[0m\u001b[1;33m.\u001b[0m\u001b[0m_engine\u001b[0m\u001b[1;33m.\u001b[0m\u001b[0mget_loc\u001b[0m\u001b[1;33m(\u001b[0m\u001b[0mcasted_key\u001b[0m\u001b[1;33m)\u001b[0m\u001b[1;33m\u001b[0m\u001b[1;33m\u001b[0m\u001b[0m\n\u001b[0;32m   2896\u001b[0m             \u001b[1;32mexcept\u001b[0m \u001b[0mKeyError\u001b[0m \u001b[1;32mas\u001b[0m \u001b[0merr\u001b[0m\u001b[1;33m:\u001b[0m\u001b[1;33m\u001b[0m\u001b[1;33m\u001b[0m\u001b[0m\n\u001b[1;32m-> 2897\u001b[1;33m                 \u001b[1;32mraise\u001b[0m \u001b[0mKeyError\u001b[0m\u001b[1;33m(\u001b[0m\u001b[0mkey\u001b[0m\u001b[1;33m)\u001b[0m \u001b[1;32mfrom\u001b[0m \u001b[0merr\u001b[0m\u001b[1;33m\u001b[0m\u001b[1;33m\u001b[0m\u001b[0m\n\u001b[0m\u001b[0;32m   2898\u001b[0m \u001b[1;33m\u001b[0m\u001b[0m\n\u001b[0;32m   2899\u001b[0m         \u001b[1;32mif\u001b[0m \u001b[0mtolerance\u001b[0m \u001b[1;32mis\u001b[0m \u001b[1;32mnot\u001b[0m \u001b[1;32mNone\u001b[0m\u001b[1;33m:\u001b[0m\u001b[1;33m\u001b[0m\u001b[1;33m\u001b[0m\u001b[0m\n",
      "\u001b[1;31mKeyError\u001b[0m: 0"
     ]
    }
   ],
   "source": [
    "dataset[0]"
   ]
  },
  {
   "cell_type": "code",
   "execution_count": 10,
   "metadata": {},
   "outputs": [],
   "source": [
    "for i in range(dataset.shape[0]):\n",
    "    dataset['text'][i] =  drop_prefix(dataset['text'][i])"
   ]
  },
  {
   "cell_type": "code",
   "execution_count": 13,
   "metadata": {
    "scrolled": false
   },
   "outputs": [
    {
     "data": {
      "text/html": [
       "<div>\n",
       "<style scoped>\n",
       "    .dataframe tbody tr th:only-of-type {\n",
       "        vertical-align: middle;\n",
       "    }\n",
       "\n",
       "    .dataframe tbody tr th {\n",
       "        vertical-align: top;\n",
       "    }\n",
       "\n",
       "    .dataframe thead th {\n",
       "        text-align: right;\n",
       "    }\n",
       "</style>\n",
       "<table border=\"1\" class=\"dataframe\">\n",
       "  <thead>\n",
       "    <tr style=\"text-align: right;\">\n",
       "      <th></th>\n",
       "      <th>title</th>\n",
       "      <th>text</th>\n",
       "      <th>subject</th>\n",
       "      <th>date</th>\n",
       "      <th>label</th>\n",
       "    </tr>\n",
       "  </thead>\n",
       "  <tbody>\n",
       "    <tr>\n",
       "      <th>0</th>\n",
       "      <td>EPA chief says Paris climate agreement 'bad de...</td>\n",
       "      <td>- The United States should continue to be “en...</td>\n",
       "      <td>politicsNews</td>\n",
       "      <td>April 2, 2017</td>\n",
       "      <td>1</td>\n",
       "    </tr>\n",
       "    <tr>\n",
       "      <th>1</th>\n",
       "      <td>BREAKING NEWS: President Trump Announces Major...</td>\n",
       "      <td>President Trump just tweeted out a new policy ...</td>\n",
       "      <td>politics</td>\n",
       "      <td>Jul 26, 2017</td>\n",
       "      <td>0</td>\n",
       "    </tr>\n",
       "    <tr>\n",
       "      <th>2</th>\n",
       "      <td>Trump says New Hampshire win not necessary to ...</td>\n",
       "      <td>- U.S. Republican presidential candidate Dona...</td>\n",
       "      <td>politicsNews</td>\n",
       "      <td>February 7, 2016</td>\n",
       "      <td>1</td>\n",
       "    </tr>\n",
       "    <tr>\n",
       "      <th>3</th>\n",
       "      <td>Kremlin: U.S. sanctions aimed at turning busin...</td>\n",
       "      <td>- The Kremlin said on Thursday it was confide...</td>\n",
       "      <td>worldnews</td>\n",
       "      <td>November 30, 2017</td>\n",
       "      <td>1</td>\n",
       "    </tr>\n",
       "    <tr>\n",
       "      <th>4</th>\n",
       "      <td>MUST WATCH: Kellyanne Conway PUNCHES BACK Afte...</td>\n",
       "      <td>Kellyanne Conway s response to Williams  criti...</td>\n",
       "      <td>left-news</td>\n",
       "      <td>Dec 27, 2016</td>\n",
       "      <td>0</td>\n",
       "    </tr>\n",
       "    <tr>\n",
       "      <th>...</th>\n",
       "      <td>...</td>\n",
       "      <td>...</td>\n",
       "      <td>...</td>\n",
       "      <td>...</td>\n",
       "      <td>...</td>\n",
       "    </tr>\n",
       "    <tr>\n",
       "      <th>44893</th>\n",
       "      <td>THIS YEAR: Let’s Make Christmas Great Again…</td>\n",
       "      <td>This year, let s try something a little differ...</td>\n",
       "      <td>US_News</td>\n",
       "      <td>December 25, 2016</td>\n",
       "      <td>0</td>\n",
       "    </tr>\n",
       "    <tr>\n",
       "      <th>44894</th>\n",
       "      <td>DEMOCRATS SELL Promo T-Shirt: “Democrats give ...</td>\n",
       "      <td>Yes, the Democrats think it s a good thing to ...</td>\n",
       "      <td>politics</td>\n",
       "      <td>Apr 20, 2017</td>\n",
       "      <td>0</td>\n",
       "    </tr>\n",
       "    <tr>\n",
       "      <th>44895</th>\n",
       "      <td>White House aides told to preserve materials i...</td>\n",
       "      <td>- The White House counsel’s office has sent a...</td>\n",
       "      <td>politicsNews</td>\n",
       "      <td>March 2, 2017</td>\n",
       "      <td>1</td>\n",
       "    </tr>\n",
       "    <tr>\n",
       "      <th>44896</th>\n",
       "      <td>'Congratulations': EU moves to Brexit phase tw...</td>\n",
       "      <td>- The European Union agreed on Friday to move...</td>\n",
       "      <td>worldnews</td>\n",
       "      <td>December 15, 2017</td>\n",
       "      <td>1</td>\n",
       "    </tr>\n",
       "    <tr>\n",
       "      <th>44897</th>\n",
       "      <td>STANDING OVATION! NIGEL FARAGE TROLLS CNN Duri...</td>\n",
       "      <td>.@Nigel_Farage tells the #CPAC2017 crowd his f...</td>\n",
       "      <td>politics</td>\n",
       "      <td>Feb 24, 2017</td>\n",
       "      <td>0</td>\n",
       "    </tr>\n",
       "  </tbody>\n",
       "</table>\n",
       "<p>44898 rows × 5 columns</p>\n",
       "</div>"
      ],
      "text/plain": [
       "                                                   title  \\\n",
       "0      EPA chief says Paris climate agreement 'bad de...   \n",
       "1      BREAKING NEWS: President Trump Announces Major...   \n",
       "2      Trump says New Hampshire win not necessary to ...   \n",
       "3      Kremlin: U.S. sanctions aimed at turning busin...   \n",
       "4      MUST WATCH: Kellyanne Conway PUNCHES BACK Afte...   \n",
       "...                                                  ...   \n",
       "44893       THIS YEAR: Let’s Make Christmas Great Again…   \n",
       "44894  DEMOCRATS SELL Promo T-Shirt: “Democrats give ...   \n",
       "44895  White House aides told to preserve materials i...   \n",
       "44896  'Congratulations': EU moves to Brexit phase tw...   \n",
       "44897  STANDING OVATION! NIGEL FARAGE TROLLS CNN Duri...   \n",
       "\n",
       "                                                    text       subject  \\\n",
       "0       - The United States should continue to be “en...  politicsNews   \n",
       "1      President Trump just tweeted out a new policy ...      politics   \n",
       "2       - U.S. Republican presidential candidate Dona...  politicsNews   \n",
       "3       - The Kremlin said on Thursday it was confide...     worldnews   \n",
       "4      Kellyanne Conway s response to Williams  criti...     left-news   \n",
       "...                                                  ...           ...   \n",
       "44893  This year, let s try something a little differ...       US_News   \n",
       "44894  Yes, the Democrats think it s a good thing to ...      politics   \n",
       "44895   - The White House counsel’s office has sent a...  politicsNews   \n",
       "44896   - The European Union agreed on Friday to move...     worldnews   \n",
       "44897  .@Nigel_Farage tells the #CPAC2017 crowd his f...      politics   \n",
       "\n",
       "                     date  label  \n",
       "0          April 2, 2017       1  \n",
       "1            Jul 26, 2017      0  \n",
       "2       February 7, 2016       1  \n",
       "3      November 30, 2017       1  \n",
       "4            Dec 27, 2016      0  \n",
       "...                   ...    ...  \n",
       "44893   December 25, 2016      0  \n",
       "44894        Apr 20, 2017      0  \n",
       "44895      March 2, 2017       1  \n",
       "44896  December 15, 2017       1  \n",
       "44897        Feb 24, 2017      0  \n",
       "\n",
       "[44898 rows x 5 columns]"
      ]
     },
     "execution_count": 13,
     "metadata": {},
     "output_type": "execute_result"
    }
   ],
   "source": [
    "dataset"
   ]
  },
  {
   "cell_type": "code",
   "execution_count": null,
   "metadata": {},
   "outputs": [],
   "source": []
  },
  {
   "cell_type": "code",
   "execution_count": 14,
   "metadata": {},
   "outputs": [
    {
     "name": "stdout",
     "output_type": "stream",
     "text": [
      "<class 'pandas.core.frame.DataFrame'>\n",
      "RangeIndex: 44898 entries, 0 to 44897\n",
      "Data columns (total 5 columns):\n",
      " #   Column   Non-Null Count  Dtype \n",
      "---  ------   --------------  ----- \n",
      " 0   title    44898 non-null  object\n",
      " 1   text     44898 non-null  object\n",
      " 2   subject  44898 non-null  object\n",
      " 3   date     44898 non-null  object\n",
      " 4   label    44898 non-null  int64 \n",
      "dtypes: int64(1), object(4)\n",
      "memory usage: 1.7+ MB\n"
     ]
    }
   ],
   "source": [
    "dataset.info()"
   ]
  },
  {
   "cell_type": "code",
   "execution_count": null,
   "metadata": {},
   "outputs": [],
   "source": []
  },
  {
   "cell_type": "code",
   "execution_count": 15,
   "metadata": {
    "scrolled": false
   },
   "outputs": [
    {
     "data": {
      "text/plain": [
       "title      0\n",
       "text       0\n",
       "subject    0\n",
       "date       0\n",
       "label      0\n",
       "dtype: int64"
      ]
     },
     "execution_count": 15,
     "metadata": {},
     "output_type": "execute_result"
    }
   ],
   "source": [
    "dataset.isnull().sum()"
   ]
  },
  {
   "cell_type": "code",
   "execution_count": 16,
   "metadata": {},
   "outputs": [],
   "source": [
    "dataset['total'] = dataset['title'] + dataset['text']"
   ]
  },
  {
   "cell_type": "code",
   "execution_count": 17,
   "metadata": {},
   "outputs": [],
   "source": [
    "cv = KFold(n_splits=5, random_state=1,shuffle=True)"
   ]
  },
  {
   "cell_type": "code",
   "execution_count": null,
   "metadata": {},
   "outputs": [],
   "source": []
  },
  {
   "cell_type": "code",
   "execution_count": 18,
   "metadata": {},
   "outputs": [],
   "source": [
    "X_train, X_test, y_train, y_test = train_test_split(dataset['total'], dataset.label, test_size=0.20, random_state=0)"
   ]
  },
  {
   "cell_type": "code",
   "execution_count": 19,
   "metadata": {},
   "outputs": [],
   "source": [
    "# Initialize the `count_vectorizer` \n",
    "count_vectorizer = CountVectorizer(ngram_range=(1, 2), stop_words='english') \n",
    "# Fit and transform the training data.\n",
    "count_train = count_vectorizer.fit_transform(X_train)\n",
    "# Transform the test set \n",
    "count_test = count_vectorizer.transform(X_test)"
   ]
  },
  {
   "cell_type": "code",
   "execution_count": 20,
   "metadata": {},
   "outputs": [],
   "source": [
    "#Initialize the `tfidf_vectorizer` \n",
    "tfidf_vectorizer = TfidfVectorizer(stop_words='english', ngram_range=(1, 2))\n",
    "#Fit and transform the training data \n",
    "tfidf_train = tfidf_vectorizer.fit_transform(X_train)\n",
    "#Transform the test set \n",
    "tfidf_test = tfidf_vectorizer.transform(X_test)"
   ]
  },
  {
   "cell_type": "code",
   "execution_count": 21,
   "metadata": {},
   "outputs": [],
   "source": [
    "# Creating a function that outputs a confusion matrix\n",
    "def plot_confusion_matrix(cm, classes,\n",
    "                          normalize=False,\n",
    "                          title='Confusion matrix',\n",
    "                          cmap=plt.cm.Blues):\n",
    "    \n",
    "    plt.imshow(cm, interpolation='nearest', cmap=cmap)\n",
    "    plt.title(title)\n",
    "    plt.colorbar()\n",
    "    tick_marks = np.arange(len(classes))\n",
    "    plt.xticks(tick_marks, classes, rotation=45)\n",
    "    plt.yticks(tick_marks, classes)\n",
    "    thresh = cm.max() / 2.\n",
    "    for i, j in itertools.product(range(cm.shape[0]), range(cm.shape[1])):\n",
    "        plt.text(j, i, cm[i, j],\n",
    "                 horizontalalignment=\"center\",\n",
    "                 color=\"white\" if cm[i, j] > thresh else \"black\")\n",
    "\n",
    "    plt.tight_layout()\n",
    "    plt.ylabel('True label')\n",
    "    plt.xlabel('Predicted label')"
   ]
  },
  {
   "cell_type": "code",
   "execution_count": 22,
   "metadata": {},
   "outputs": [],
   "source": [
    "def precision_recall(true_label, predicted_label):\n",
    "    precision = precision_score(true_label, predicted_label)\n",
    "    print('Precision: %f' % precision)\n",
    "\n",
    "    recall = recall_score(true_label, predicted_label)\n",
    "    print('Recall: %f' % recall)\n",
    "    \n",
    "    accuracy = metrics.accuracy_score(true_label, predicted_label)\n",
    "    print('Accuracy: %f' % accuracy)\n",
    "    \n",
    "    f1score = metrics.f1_score(true_label, predicted_label)\n",
    "    print('F1 Score: %f' % f1score)"
   ]
  },
  {
   "cell_type": "code",
   "execution_count": 23,
   "metadata": {},
   "outputs": [
    {
     "name": "stdout",
     "output_type": "stream",
     "text": [
      "0.9725485610512571 0.000913065673174629\n",
      "Precision: 0.975901\n",
      "Recall: 0.970000\n",
      "Accuracy: 0.974165\n",
      "F1 Score: 0.972941\n"
     ]
    }
   ],
   "source": [
    "nb_classifier_k = MultinomialNB(alpha=0.1)\n",
    "scores = cross_val_score(nb_classifier_k, count_train, y_train, scoring='accuracy', cv=cv, n_jobs=-1)\n",
    "print(np.mean(scores), np.std(scores))\n",
    "nb_classifier_k.fit(count_train, y_train)\n",
    "pred_nb_c = nb_classifier_k.predict(count_test)\n",
    "precision_recall(y_test, pred_nb_c)\n",
    "\n",
    "\n",
    "# nb_classifier = MultinomialNB(alpha = 0.1)\n",
    "# nb_classifier.fit(count_train, y_train)\n",
    "# pred_nb_count = nb_classifier.predict(count_test)\n",
    "# precision_recall(y_test, pred_nb_count)"
   ]
  },
  {
   "cell_type": "code",
   "execution_count": 24,
   "metadata": {
    "scrolled": true
   },
   "outputs": [
    {
     "name": "stdout",
     "output_type": "stream",
     "text": [
      "Precision: 0.973561\n",
      "Recall: 0.967674\n",
      "Accuracy: 0.971938\n",
      "F1 Score: 0.970609\n",
      "Alpha: 0.00 \n",
      "Precision: 0.976586\n",
      "Recall: 0.970000\n",
      "Accuracy: 0.974499\n",
      "F1 Score: 0.973282\n",
      "Alpha: 0.05 \n",
      "Precision: 0.975901\n",
      "Recall: 0.970000\n",
      "Accuracy: 0.974165\n",
      "F1 Score: 0.972941\n",
      "Alpha: 0.10 \n",
      "Precision: 0.976352\n",
      "Recall: 0.969767\n",
      "Accuracy: 0.974276\n",
      "F1 Score: 0.973049\n",
      "Alpha: 0.15 \n",
      "Precision: 0.975667\n",
      "Recall: 0.969767\n",
      "Accuracy: 0.973942\n",
      "F1 Score: 0.972708\n",
      "Alpha: 0.20 \n",
      "Precision: 0.974509\n",
      "Recall: 0.969070\n",
      "Accuracy: 0.973051\n",
      "F1 Score: 0.971782\n",
      "Alpha: 0.25 \n",
      "Precision: 0.974947\n",
      "Recall: 0.968372\n",
      "Accuracy: 0.972940\n",
      "F1 Score: 0.971649\n",
      "Alpha: 0.30 \n",
      "Precision: 0.974701\n",
      "Recall: 0.967674\n",
      "Accuracy: 0.972494\n",
      "F1 Score: 0.971175\n",
      "Alpha: 0.35 \n",
      "Precision: 0.974227\n",
      "Recall: 0.966977\n",
      "Accuracy: 0.971938\n",
      "F1 Score: 0.970588\n",
      "Alpha: 0.40 \n",
      "Precision: 0.973999\n",
      "Recall: 0.966977\n",
      "Accuracy: 0.971826\n",
      "F1 Score: 0.970475\n",
      "Alpha: 0.45 \n",
      "Precision: 0.973524\n",
      "Recall: 0.966279\n",
      "Accuracy: 0.971269\n",
      "F1 Score: 0.969888\n",
      "Alpha: 0.50 \n",
      "Precision: 0.973062\n",
      "Recall: 0.966047\n",
      "Accuracy: 0.970935\n",
      "F1 Score: 0.969541\n",
      "Alpha: 0.55 \n",
      "Precision: 0.972157\n",
      "Recall: 0.966279\n",
      "Accuracy: 0.970601\n",
      "F1 Score: 0.969209\n",
      "Alpha: 0.60 \n",
      "Precision: 0.971689\n",
      "Recall: 0.965814\n",
      "Accuracy: 0.970156\n",
      "F1 Score: 0.968743\n",
      "Alpha: 0.65 \n",
      "Precision: 0.971683\n",
      "Recall: 0.965581\n",
      "Accuracy: 0.970045\n",
      "F1 Score: 0.968622\n",
      "Alpha: 0.70 \n",
      "Precision: 0.971442\n",
      "Recall: 0.965116\n",
      "Accuracy: 0.969710\n",
      "F1 Score: 0.968269\n",
      "Alpha: 0.75 \n",
      "Precision: 0.970987\n",
      "Recall: 0.965116\n",
      "Accuracy: 0.969488\n",
      "F1 Score: 0.968043\n",
      "Alpha: 0.80 \n",
      "Precision: 0.970987\n",
      "Recall: 0.965116\n",
      "Accuracy: 0.969488\n",
      "F1 Score: 0.968043\n",
      "Alpha: 0.85 \n",
      "Precision: 0.970747\n",
      "Recall: 0.964651\n",
      "Accuracy: 0.969154\n",
      "F1 Score: 0.967689\n",
      "Alpha: 0.90 \n",
      "Precision: 0.970947\n",
      "Recall: 0.963721\n",
      "Accuracy: 0.968820\n",
      "F1 Score: 0.967320\n",
      "Alpha: 0.95 \n"
     ]
    }
   ],
   "source": [
    "# tune the hyperparameter alpha for the naive bayes classifier\n",
    "for alpha in np.arange(0,1,.05):\n",
    "    nb_classifier_tune = MultinomialNB(alpha=alpha)\n",
    "    nb_classifier_tune.fit(count_train, y_train)\n",
    "    pred_tune = nb_classifier_tune.predict(count_test)\n",
    "    precision_recall(y_test, pred_tune)\n",
    "    print(\"Alpha: {:.2f} \".format(alpha))"
   ]
  },
  {
   "cell_type": "code",
   "execution_count": 25,
   "metadata": {
    "scrolled": true
   },
   "outputs": [
    {
     "name": "stdout",
     "output_type": "stream",
     "text": [
      "0.9725485610512571 0.000913065673174629\n",
      "Precision: 0.976586\n",
      "Recall: 0.970000\n",
      "Accuracy: 0.974499\n",
      "F1 Score: 0.973282\n"
     ]
    },
    {
     "data": {
      "image/png": "[encoded data removed]",
      "text/plain": [
       "<Figure size 432x288 with 2 Axes>"
      ]
     },
     "metadata": {
      "needs_background": "light"
     },
     "output_type": "display_data"
    }
   ],
   "source": [
    "# Let's re-run our fine-tuned model and plot the confusion matrix\n",
    "nb_classifier = MultinomialNB(alpha = 0.05)\n",
    "scores = cross_val_score(nb_classifier_k, count_train, y_train, scoring='accuracy', cv=cv, n_jobs=-1)\n",
    "print(np.mean(scores), np.std(scores))\n",
    "nb_classifier.fit(count_train, y_train)\n",
    "pred_nb_count = nb_classifier.predict(count_test)\n",
    "precision_recall(y_test, pred_nb_count)\n",
    "cm = metrics.confusion_matrix(y_test, pred_nb_count, labels=[0,1])\n",
    "    \n",
    "    \n",
    "plot_confusion_matrix(cm, classes=['TRUE','FAKE'], title ='Confusion matrix for a MultinomialNB with Count Vectorizer')"
   ]
  },
  {
   "cell_type": "code",
   "execution_count": 26,
   "metadata": {},
   "outputs": [
    {
     "name": "stdout",
     "output_type": "stream",
     "text": [
      "0.9663121359297053 0.0012077112313324699\n",
      "Precision: 0.966721\n",
      "Recall: 0.959302\n",
      "Accuracy: 0.964699\n",
      "F1 Score: 0.962998\n"
     ]
    }
   ],
   "source": [
    "nb_classifier = MultinomialNB(alpha = 0.1)\n",
    "scores = cross_val_score(nb_classifier_k, tfidf_train, y_train, scoring='accuracy', cv=cv, n_jobs=-1)\n",
    "print(np.mean(scores), np.std(scores))\n",
    "nb_classifier.fit(tfidf_train, y_train)\n",
    "pred_nb_tfidf = nb_classifier.predict(tfidf_test)\n",
    "precision_recall(y_test, pred_nb_tfidf)"
   ]
  },
  {
   "cell_type": "code",
   "execution_count": 27,
   "metadata": {
    "scrolled": true
   },
   "outputs": [
    {
     "name": "stdout",
     "output_type": "stream",
     "text": [
      "Precision: 0.968291\n",
      "Recall: 0.965814\n",
      "Accuracy: 0.968486\n",
      "F1 Score: 0.967051\n",
      "Alpha: 0.00 \n",
      "Precision: 0.970616\n",
      "Recall: 0.967907\n",
      "Accuracy: 0.970601\n",
      "F1 Score: 0.969259\n",
      "Alpha: 0.01 \n",
      "Precision: 0.970355\n",
      "Recall: 0.966744\n",
      "Accuracy: 0.969933\n",
      "F1 Score: 0.968546\n",
      "Alpha: 0.02 \n",
      "Precision: 0.968721\n",
      "Recall: 0.965116\n",
      "Accuracy: 0.968374\n",
      "F1 Score: 0.966915\n",
      "Alpha: 0.03 \n",
      "Precision: 0.967795\n",
      "Recall: 0.964419\n",
      "Accuracy: 0.967595\n",
      "F1 Score: 0.966104\n",
      "Alpha: 0.04 \n",
      "Precision: 0.968677\n",
      "Recall: 0.963721\n",
      "Accuracy: 0.967706\n",
      "F1 Score: 0.966193\n",
      "Alpha: 0.05 \n",
      "Precision: 0.967983\n",
      "Recall: 0.963256\n",
      "Accuracy: 0.967149\n",
      "F1 Score: 0.965614\n",
      "Alpha: 0.06 \n",
      "Precision: 0.967712\n",
      "Recall: 0.961860\n",
      "Accuracy: 0.966370\n",
      "F1 Score: 0.964777\n",
      "Alpha: 0.07 \n",
      "Precision: 0.966994\n",
      "Recall: 0.960698\n",
      "Accuracy: 0.965479\n",
      "F1 Score: 0.963836\n",
      "Alpha: 0.08 \n",
      "Precision: 0.966737\n",
      "Recall: 0.959767\n",
      "Accuracy: 0.964922\n",
      "F1 Score: 0.963240\n",
      "Alpha: 0.09 \n"
     ]
    }
   ],
   "source": [
    "# tune the hyperparameter alpha for the naive bayes classifier\n",
    "for alpha in np.arange(0,0.1,.01):\n",
    "    nb_classifier_tune = MultinomialNB(alpha=alpha)\n",
    "    nb_classifier_tune.fit(tfidf_train, y_train)\n",
    "    pred_tune = nb_classifier_tune.predict(tfidf_test)\n",
    "    precision_recall(y_test, pred_tune)\n",
    "    print(\"Alpha: {:.2f} \".format(alpha))"
   ]
  },
  {
   "cell_type": "code",
   "execution_count": 28,
   "metadata": {},
   "outputs": [
    {
     "name": "stdout",
     "output_type": "stream",
     "text": [
      "0.9663121359297053 0.0012077112313324699\n",
      "Precision: 0.967712\n",
      "Recall: 0.961860\n",
      "Accuracy: 0.966370\n",
      "F1 Score: 0.964777\n"
     ]
    },
    {
     "data": {
      "image/png": "[encoded data removed]",
      "text/plain": [
       "<Figure size 432x288 with 2 Axes>"
      ]
     },
     "metadata": {
      "needs_background": "light"
     },
     "output_type": "display_data"
    }
   ],
   "source": [
    "# Let's run the optimized model with best value of hyperparameter and check the confusion matrix\n",
    "nb_classifier = MultinomialNB(alpha = 0.07)\n",
    "scores = cross_val_score(nb_classifier_k, tfidf_train, y_train, scoring='accuracy', cv=cv, n_jobs=-1)\n",
    "print(np.mean(scores), np.std(scores))\n",
    "nb_classifier.fit(tfidf_train, y_train)\n",
    "pred_nb_tfidf = nb_classifier.predict(tfidf_test)\n",
    "precision_recall(y_test, pred_nb_tfidf)\n",
    "cm2 = metrics.confusion_matrix(y_test, pred_nb_tfidf, labels=[0,1])\n",
    "plot_confusion_matrix(cm2, classes=['TRUE','FAKE'], title ='Confusion matrix for a MultinomialNB with Tf-IDF')"
   ]
  },
  {
   "cell_type": "code",
   "execution_count": 29,
   "metadata": {},
   "outputs": [
    {
     "name": "stdout",
     "output_type": "stream",
     "text": [
      "0.9874157407972983 0.0013021471959391926\n",
      "Precision: 0.986568\n",
      "Recall: 0.990698\n",
      "Accuracy: 0.989087\n",
      "F1 Score: 0.988628\n"
     ]
    },
    {
     "data": {
      "image/png": "[encoded data removed]",
      "text/plain": [
       "<Figure size 432x288 with 2 Axes>"
      ]
     },
     "metadata": {
      "needs_background": "light"
     },
     "output_type": "display_data"
    }
   ],
   "source": [
    "from sklearn.linear_model import PassiveAggressiveClassifier\n",
    "linear_classifier = PassiveAggressiveClassifier(max_iter=10)\n",
    "scores = cross_val_score(linear_classifier, count_train, y_train, scoring='accuracy', cv=cv, n_jobs=-1)\n",
    "print(np.mean(scores), np.std(scores))\n",
    "linear_classifier.fit(count_train, y_train)\n",
    "pred_linear_count = linear_classifier.predict(count_test)\n",
    "precision_recall(y_test, pred_linear_count)\n",
    "cm6 = metrics.confusion_matrix(y_test, pred_linear_count, labels=[0,1])\n",
    "plot_confusion_matrix(cm6, classes=['TRUE','FAKE'], title ='Confusion matrix for a PA Classifier with Count Vectorizer')"
   ]
  },
  {
   "cell_type": "code",
   "execution_count": 30,
   "metadata": {},
   "outputs": [
    {
     "name": "stdout",
     "output_type": "stream",
     "text": [
      "0.9876663402236225 0.001280895179535124\n",
      "Precision: 0.989344\n",
      "Recall: 0.993256\n",
      "Accuracy: 0.991648\n",
      "F1 Score: 0.991296\n"
     ]
    },
    {
     "data": {
      "image/png": "[encoded data removed]",
      "text/plain": [
       "<Figure size 432x288 with 2 Axes>"
      ]
     },
     "metadata": {
      "needs_background": "light"
     },
     "output_type": "display_data"
    }
   ],
   "source": [
    "linear_classifier = PassiveAggressiveClassifier(max_iter=10)\n",
    "scores = cross_val_score(linear_classifier, count_train, y_train, scoring='accuracy', cv=cv, n_jobs=-1)\n",
    "print(np.mean(scores), np.std(scores))\n",
    "linear_classifier.fit(tfidf_train, y_train)\n",
    "pred_linear_tfidf = linear_classifier.predict(tfidf_test)\n",
    "precision_recall(y_test, pred_linear_tfidf)\n",
    "\n",
    "cm5 = metrics.confusion_matrix(y_test, pred_linear_tfidf, labels=[0,1])\n",
    "plot_confusion_matrix(cm5, classes=['TRUE','FAKE'], title ='Confusion matrix for a PA Classifier with Tf-IDF')"
   ]
  },
  {
   "cell_type": "code",
   "execution_count": 31,
   "metadata": {},
   "outputs": [
    {
     "name": "stdout",
     "output_type": "stream",
     "text": [
      "0.9903947570776956 0.001294154242936985\n",
      "Precision: 0.987960\n",
      "Recall: 0.992326\n",
      "Accuracy: 0.990535\n",
      "F1 Score: 0.990138\n"
     ]
    },
    {
     "data": {
      "image/png": "[encoded data removed]",
      "text/plain": [
       "<Figure size 432x288 with 2 Axes>"
      ]
     },
     "metadata": {
      "needs_background": "light"
     },
     "output_type": "display_data"
    }
   ],
   "source": [
    "logreg = LogisticRegression(C=1e5)\n",
    "scores = cross_val_score(logreg, tfidf_train, y_train, scoring='accuracy', cv=cv, n_jobs=-1)\n",
    "print(np.mean(scores), np.std(scores))\n",
    "logreg.fit(tfidf_train, y_train)\n",
    "pred_logreg_tfidf = logreg.predict(tfidf_test)\n",
    "pred_logreg_tfidf_proba = logreg.predict_proba(tfidf_test)[:,1]\n",
    "precision_recall(y_test, pred_logreg_tfidf)\n",
    "\n",
    "cm4 = metrics.confusion_matrix(y_test, pred_logreg_tfidf, labels=[0,1])\n",
    "plot_confusion_matrix(cm4, classes=['TRUE','FAKE'], title ='Confusion matrix for a Logistic Regression with Tf-IDF')"
   ]
  },
  {
   "cell_type": "code",
   "execution_count": 32,
   "metadata": {
    "scrolled": true
   },
   "outputs": [
    {
     "name": "stdout",
     "output_type": "stream",
     "text": [
      "0.9873322296178773 0.0013840272174140992\n",
      "Precision: 0.986559\n",
      "Recall: 0.990000\n",
      "Accuracy: 0.988753\n",
      "F1 Score: 0.988276\n"
     ]
    },
    {
     "data": {
      "image/png": "[encoded data removed]",
      "text/plain": [
       "<Figure size 432x288 with 2 Axes>"
      ]
     },
     "metadata": {
      "needs_background": "light"
     },
     "output_type": "display_data"
    }
   ],
   "source": [
    "logreg = LogisticRegression(C=1e5)\n",
    "scores = cross_val_score(logreg, count_train, y_train, scoring='accuracy', cv=cv, n_jobs=-1)\n",
    "print(np.mean(scores), np.std(scores))\n",
    "logreg.fit(count_train, y_train)\n",
    "pred_logreg_count = logreg.predict(count_test)\n",
    "precision_recall(y_test, pred_logreg_count)\n",
    "\n",
    "cm3 = metrics.confusion_matrix(y_test, pred_logreg_count, labels=[0,1])\n",
    "plot_confusion_matrix(cm3, classes=['TRUE','FAKE'], title ='Confusion matrix for a Logistic Regression with Count Vectorizer')"
   ]
  },
  {
   "cell_type": "code",
   "execution_count": 34,
   "metadata": {},
   "outputs": [
    {
     "name": "stdout",
     "output_type": "stream",
     "text": [
      "0.9530876036806776 0.00341968135482184\n",
      "Precision: 0.961683\n",
      "Recall: 0.951395\n",
      "Accuracy: 0.958575\n",
      "F1 Score: 0.956512\n"
     ]
    },
    {
     "data": {
      "image/png": "[encoded data removed]",
      "text/plain": [
       "<Figure size 432x288 with 2 Axes>"
      ]
     },
     "metadata": {
      "needs_background": "light"
     },
     "output_type": "display_data"
    }
   ],
   "source": [
    "dtclass = DecisionTreeClassifier(criterion = 'entropy', random_state = 0)\n",
    "scores = cross_val_score(dtclass, count_train, y_train, scoring='accuracy', cv=cv, n_jobs=-1)\n",
    "print(np.mean(scores), np.std(scores))\n",
    "dtclass.fit(count_train, y_train)\n",
    "pred_dt_count = dtclass.predict(count_test)\n",
    "precision_recall(y_test, pred_dt_count)\n",
    "\n",
    "cm4 = metrics.confusion_matrix(y_test, pred_dt_count, labels=[0,1])\n",
    "plot_confusion_matrix(cm4, classes=['TRUE','FAKE'], title ='Confusion matrix for a DT with Count Vectorizer')"
   ]
  },
  {
   "cell_type": "code",
   "execution_count": 35,
   "metadata": {},
   "outputs": [
    {
     "name": "stdout",
     "output_type": "stream",
     "text": [
      "0.9528091723622374 0.0017365081734873008\n",
      "Precision: 0.961475\n",
      "Recall: 0.946047\n",
      "Accuracy: 0.956013\n",
      "F1 Score: 0.953698\n"
     ]
    },
    {
     "data": {
      "image/png": "[encoded data removed]",
      "text/plain": [
       "<Figure size 432x288 with 2 Axes>"
      ]
     },
     "metadata": {
      "needs_background": "light"
     },
     "output_type": "display_data"
    }
   ],
   "source": [
    "dtclass = DecisionTreeClassifier(criterion = 'entropy', random_state = 0)\n",
    "scores = cross_val_score(dtclass, tfidf_train, y_train, scoring='accuracy', cv=cv, n_jobs=-1)\n",
    "print(np.mean(scores), np.std(scores))\n",
    "dtclass.fit(tfidf_train, y_train)\n",
    "pred_dt_count = dtclass.predict(tfidf_test)\n",
    "precision_recall(y_test, pred_dt_count)\n",
    "\n",
    "cm5 = metrics.confusion_matrix(y_test, pred_dt_count, labels=[0,1])\n",
    "plot_confusion_matrix(cm5, classes=['TRUE','FAKE'], title ='Confusion matrix for a DT with TFIDF')"
   ]
  },
  {
   "cell_type": "code",
   "execution_count": null,
   "metadata": {},
   "outputs": [],
   "source": [
    "rfclass = RandomForestClassifier(n_estimators = 10, criterion = 'entropy', random_state = 0)\n",
    "scores = cross_val_score(rfclass, count_train, y_train, scoring='accuracy', cv=cv, n_jobs=-1)\n",
    "print(np.mean(scores), np.std(scores))\n",
    "rfclass.fit(count_train, y_train)\n",
    "pred_rf_count = rfclass.predict(count_test)\n",
    "precision_recall(y_test, pred_rf_count)\n",
    "\n",
    "cm6 = metrics.confusion_matrix(y_test, pred_rf_count, labels=[0,1])\n",
    "plot_confusion_matrix(cm6, classes=['TRUE','FAKE'], title ='Confusion matrix for a RF with Count Vectorizer')"
   ]
  },
  {
   "cell_type": "code",
   "execution_count": null,
   "metadata": {},
   "outputs": [],
   "source": [
    "rfclass = RandomForestClassifier(n_estimators = 10, criterion = 'entropy', random_state = 0)\n",
    "scores = cross_val_score(rfclass, tfidf_train, y_train, scoring='accuracy', cv=cv, n_jobs=-1)\n",
    "print(np.mean(scores), np.std(scores))\n",
    "rfclass.fit(tfidf_train, y_train)\n",
    "pred_rf_count = rfclass.predict(tfidf_test)\n",
    "precision_recall(y_test, pred_rf_count)\n",
    "\n",
    "cm6 = metrics.confusion_matrix(y_test, pred_rf_count, labels=[0,1])\n",
    "plot_confusion_matrix(cm6, classes=['TRUE','FAKE'], title ='Confusion matrix for a RF with TFIDF Vectorizer')"
   ]
  },
  {
   "cell_type": "code",
   "execution_count": null,
   "metadata": {},
   "outputs": [],
   "source": [
    "svclass = SVC(kernel = 'linear', random_state = 0)\n",
    "scores = cross_val_score(svclass, count_train, y_train, scoring='accuracy', cv=cv, n_jobs=-1)\n",
    "print(np.mean(scores), np.std(scores))\n",
    "svclass.fit(count_train, y_train)\n",
    "pred_sv_count = svclass.predict(count_test)\n",
    "precision_recall(y_test, pred_sv_count)\n",
    "\n",
    "cm6 = metrics.confusion_matrix(y_test, pred_sv_count, labels=[0,1])\n",
    "plot_confusion_matrix(cm6, classes=['TRUE','FAKE'], title ='Confusion matrix for a LSVM with Count Vectorizer')"
   ]
  },
  {
   "cell_type": "code",
   "execution_count": null,
   "metadata": {},
   "outputs": [],
   "source": [
    "svclass = SVC(kernel = 'linear', random_state = 0)\n",
    "scores = cross_val_score(svclass, tfidf_train, y_train, scoring='accuracy', cv=cv, n_jobs=-1)\n",
    "print(np.mean(scores), np.std(scores))\n",
    "svclass.fit(tfidf_train, y_train)\n",
    "pred_sv_count = svclass.predict(tfidf_test)\n",
    "precision_recall(y_test, pred_sv_count)\n",
    "\n",
    "cm6 = metrics.confusion_matrix(y_test, pred_sv_count, labels=[0,1])\n",
    "plot_confusion_matrix(cm6, classes=['TRUE','FAKE'], title ='Confusion matrix for a LSVM with TFIDF Vectorizer')"
   ]
  },
  {
   "cell_type": "code",
   "execution_count": null,
   "metadata": {},
   "outputs": [],
   "source": [
    "knnclass = KNeighborsClassifier(n_neighbors = 5, metric = 'minkowski', p = 2)\n",
    "scores = cross_val_score(knnclass, count_train, y_train, scoring='accuracy', cv=cv, n_jobs=-1)\n",
    "print(np.mean(scores), np.std(scores))\n",
    "knnclass.fit(count_train, y_train)\n",
    "pred_knn_count = knnclass.predict(count_test)\n",
    "precision_recall(y_test, pred_knn_count)\n",
    "\n",
    "cm6 = metrics.confusion_matrix(y_test, pred_knn_count, labels=[0,1])\n",
    "plot_confusion_matrix(cm6, classes=['TRUE','FAKE'], title ='Confusion matrix for a KNN with Count Vectorizer')"
   ]
  },
  {
   "cell_type": "code",
   "execution_count": null,
   "metadata": {
    "scrolled": true
   },
   "outputs": [],
   "source": [
    "knnclass = KNeighborsClassifier(n_neighbors = 5, metric = 'minkowski', p = 2)\n",
    "scores = cross_val_score(knnclass, tfidf_train, y_train, scoring='accuracy', cv=cv, n_jobs=-1)\n",
    "print(np.mean(scores), np.std(scores))\n",
    "knnclass.fit(tfidf_train, y_train)\n",
    "pred_knn_count = knnclass.predict(tfidf_test)\n",
    "precision_recall(y_test, pred_knn_count)\n",
    "\n",
    "cm6 = metrics.confusion_matrix(y_test, pred_knn_count, labels=[0,1])\n",
    "plot_confusion_matrix(cm6, classes=['TRUE','FAKE'], title ='Confusion matrix for a KNN with Count Vectorizer')"
   ]
  },
  {
   "cell_type": "code",
   "execution_count": null,
   "metadata": {},
   "outputs": [],
   "source": [
    "# nltk.download('stopwords')\n",
    "# nltk.download('punkt')"
   ]
  }
 ],
 "metadata": {
  "kernelspec": {
   "display_name": "Python 3",
   "language": "python",
   "name": "python3"
  },
  "language_info": {
   "codemirror_mode": {
    "name": "ipython",
    "version": 3
   },
   "file_extension": ".py",
   "mimetype": "text/x-python",
   "name": "python",
   "nbconvert_exporter": "python",
   "pygments_lexer": "ipython3",
   "version": "3.8.5"
  }
 },
 "nbformat": 4,
 "nbformat_minor": 4
}
